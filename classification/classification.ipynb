{
 "cells": [
  {
   "cell_type": "code",
   "execution_count": 4,
   "id": "5af6b97e",
   "metadata": {},
   "outputs": [],
   "source": [
    "import pandas as pd\n",
    "import numpy as np"
   ]
  },
  {
   "cell_type": "markdown",
   "id": "c2ce4472",
   "metadata": {},
   "source": [
    "## GPT3.5"
   ]
  },
  {
   "cell_type": "code",
   "execution_count": 8,
   "id": "0a6e4957",
   "metadata": {},
   "outputs": [],
   "source": [
    "df_600 = pd.read_csv('result1000.csv')"
   ]
  },
  {
   "cell_type": "code",
   "execution_count": 9,
   "id": "041503c9",
   "metadata": {},
   "outputs": [
    {
     "data": {
      "text/plain": [
       "(1000, 54)"
      ]
     },
     "execution_count": 9,
     "metadata": {},
     "output_type": "execute_result"
    }
   ],
   "source": [
    "df_600.shape"
   ]
  },
  {
   "cell_type": "code",
   "execution_count": 27,
   "id": "798a9302",
   "metadata": {},
   "outputs": [],
   "source": [
    "df = df_600.copy()"
   ]
  },
  {
   "cell_type": "code",
   "execution_count": 29,
   "id": "7015f493",
   "metadata": {},
   "outputs": [],
   "source": [
    "df_y = pd.read_csv('label_data.csv', encoding = 'utf-8')\n",
    "df_y = df_y.iloc[:600]"
   ]
  },
  {
   "cell_type": "code",
   "execution_count": 30,
   "id": "eff726a9",
   "metadata": {},
   "outputs": [
    {
     "data": {
      "text/plain": [
       "(600, 42)"
      ]
     },
     "execution_count": 30,
     "metadata": {},
     "output_type": "execute_result"
    }
   ],
   "source": [
    "df_y.shape"
   ]
  },
  {
   "cell_type": "code",
   "execution_count": 31,
   "id": "097be575",
   "metadata": {},
   "outputs": [
    {
     "data": {
      "text/html": [
       "<div>\n",
       "<style scoped>\n",
       "    .dataframe tbody tr th:only-of-type {\n",
       "        vertical-align: middle;\n",
       "    }\n",
       "\n",
       "    .dataframe tbody tr th {\n",
       "        vertical-align: top;\n",
       "    }\n",
       "\n",
       "    .dataframe thead th {\n",
       "        text-align: right;\n",
       "    }\n",
       "</style>\n",
       "<table border=\"1\" class=\"dataframe\">\n",
       "  <thead>\n",
       "    <tr style=\"text-align: right;\">\n",
       "      <th></th>\n",
       "      <th>0.2</th>\n",
       "      <th>0.2.1</th>\n",
       "      <th>0.0</th>\n",
       "      <th>0.4</th>\n",
       "      <th>0.2.2</th>\n",
       "      <th>0.7</th>\n",
       "      <th>0.0.1</th>\n",
       "      <th>0.0.2</th>\n",
       "      <th>0.4.1</th>\n",
       "      <th>0.3</th>\n",
       "      <th>...</th>\n",
       "      <th>嗜睡</th>\n",
       "      <th>头晕</th>\n",
       "      <th>腹痛</th>\n",
       "      <th>便血</th>\n",
       "      <th>心悸</th>\n",
       "      <th>螺旋杆菌感染</th>\n",
       "      <th>反流</th>\n",
       "      <th>水肿</th>\n",
       "      <th>胃肠功能紊乱</th>\n",
       "      <th>淋巴结肿大</th>\n",
       "    </tr>\n",
       "  </thead>\n",
       "  <tbody>\n",
       "    <tr>\n",
       "      <th>0</th>\n",
       "      <td>0.1</td>\n",
       "      <td>0.2</td>\n",
       "      <td>0.2</td>\n",
       "      <td>0.2</td>\n",
       "      <td>0.0</td>\n",
       "      <td>0.4</td>\n",
       "      <td>0.2</td>\n",
       "      <td>0.0</td>\n",
       "      <td>0.4</td>\n",
       "      <td>0.3</td>\n",
       "      <td>...</td>\n",
       "      <td>0</td>\n",
       "      <td>0</td>\n",
       "      <td>1</td>\n",
       "      <td>0</td>\n",
       "      <td>0</td>\n",
       "      <td>0</td>\n",
       "      <td>0</td>\n",
       "      <td>0</td>\n",
       "      <td>1</td>\n",
       "      <td>0</td>\n",
       "    </tr>\n",
       "    <tr>\n",
       "      <th>1</th>\n",
       "      <td>0.2</td>\n",
       "      <td>0.3</td>\n",
       "      <td>0.0</td>\n",
       "      <td>0.3</td>\n",
       "      <td>0.2</td>\n",
       "      <td>0.2</td>\n",
       "      <td>0.5</td>\n",
       "      <td>0.0</td>\n",
       "      <td>0.4</td>\n",
       "      <td>0.3</td>\n",
       "      <td>...</td>\n",
       "      <td>0</td>\n",
       "      <td>1</td>\n",
       "      <td>1</td>\n",
       "      <td>0</td>\n",
       "      <td>0</td>\n",
       "      <td>0</td>\n",
       "      <td>0</td>\n",
       "      <td>0</td>\n",
       "      <td>0</td>\n",
       "      <td>0</td>\n",
       "    </tr>\n",
       "    <tr>\n",
       "      <th>2</th>\n",
       "      <td>0.6</td>\n",
       "      <td>0.6</td>\n",
       "      <td>0.3</td>\n",
       "      <td>0.5</td>\n",
       "      <td>0.0</td>\n",
       "      <td>0.3</td>\n",
       "      <td>0.1</td>\n",
       "      <td>0.5</td>\n",
       "      <td>0.6</td>\n",
       "      <td>0.7</td>\n",
       "      <td>...</td>\n",
       "      <td>0</td>\n",
       "      <td>0</td>\n",
       "      <td>0</td>\n",
       "      <td>1</td>\n",
       "      <td>0</td>\n",
       "      <td>0</td>\n",
       "      <td>0</td>\n",
       "      <td>0</td>\n",
       "      <td>0</td>\n",
       "      <td>0</td>\n",
       "    </tr>\n",
       "    <tr>\n",
       "      <th>3</th>\n",
       "      <td>0.5</td>\n",
       "      <td>0.5</td>\n",
       "      <td>0.0</td>\n",
       "      <td>0.5</td>\n",
       "      <td>0.3</td>\n",
       "      <td>0.5</td>\n",
       "      <td>0.0</td>\n",
       "      <td>0.0</td>\n",
       "      <td>0.3</td>\n",
       "      <td>0.7</td>\n",
       "      <td>...</td>\n",
       "      <td>0</td>\n",
       "      <td>0</td>\n",
       "      <td>1</td>\n",
       "      <td>0</td>\n",
       "      <td>0</td>\n",
       "      <td>0</td>\n",
       "      <td>0</td>\n",
       "      <td>0</td>\n",
       "      <td>0</td>\n",
       "      <td>0</td>\n",
       "    </tr>\n",
       "    <tr>\n",
       "      <th>4</th>\n",
       "      <td>0.0</td>\n",
       "      <td>0.0</td>\n",
       "      <td>0.0</td>\n",
       "      <td>0.0</td>\n",
       "      <td>0.0</td>\n",
       "      <td>0.0</td>\n",
       "      <td>0.0</td>\n",
       "      <td>0.0</td>\n",
       "      <td>0.0</td>\n",
       "      <td>0.0</td>\n",
       "      <td>...</td>\n",
       "      <td>0</td>\n",
       "      <td>0</td>\n",
       "      <td>1</td>\n",
       "      <td>0</td>\n",
       "      <td>0</td>\n",
       "      <td>0</td>\n",
       "      <td>0</td>\n",
       "      <td>0</td>\n",
       "      <td>0</td>\n",
       "      <td>0</td>\n",
       "    </tr>\n",
       "  </tbody>\n",
       "</table>\n",
       "<p>5 rows × 96 columns</p>\n",
       "</div>"
      ],
      "text/plain": [
       "   0.2  0.2.1  0.0  0.4  0.2.2  0.7  0.0.1  0.0.2  0.4.1  0.3  ...  嗜睡  头晕  \\\n",
       "0  0.1    0.2  0.2  0.2    0.0  0.4    0.2    0.0    0.4  0.3  ...   0   0   \n",
       "1  0.2    0.3  0.0  0.3    0.2  0.2    0.5    0.0    0.4  0.3  ...   0   1   \n",
       "2  0.6    0.6  0.3  0.5    0.0  0.3    0.1    0.5    0.6  0.7  ...   0   0   \n",
       "3  0.5    0.5  0.0  0.5    0.3  0.5    0.0    0.0    0.3  0.7  ...   0   0   \n",
       "4  0.0    0.0  0.0  0.0    0.0  0.0    0.0    0.0    0.0  0.0  ...   0   0   \n",
       "\n",
       "   腹痛  便血  心悸  螺旋杆菌感染  反流  水肿  胃肠功能紊乱  淋巴结肿大  \n",
       "0   1   0   0       0   0   0       1      0  \n",
       "1   1   0   0       0   0   0       0      0  \n",
       "2   0   1   0       0   0   0       0      0  \n",
       "3   1   0   0       0   0   0       0      0  \n",
       "4   1   0   0       0   0   0       0      0  \n",
       "\n",
       "[5 rows x 96 columns]"
      ]
     },
     "execution_count": 31,
     "metadata": {},
     "output_type": "execute_result"
    }
   ],
   "source": [
    "df_X = df.reset_index(drop=True)\n",
    "df_y = df_y.reset_index(drop=True)\n",
    "\n",
    "data = pd.concat([df_X, df_y], axis=1)\n",
    "data.head()"
   ]
  },
  {
   "cell_type": "code",
   "execution_count": 32,
   "id": "6154e378",
   "metadata": {},
   "outputs": [
    {
     "data": {
      "text/plain": [
       "(600, 96)"
      ]
     },
     "execution_count": 32,
     "metadata": {},
     "output_type": "execute_result"
    }
   ],
   "source": [
    "data.shape"
   ]
  },
  {
   "cell_type": "markdown",
   "id": "8d517a5d",
   "metadata": {},
   "source": [
    "### drop columns"
   ]
  },
  {
   "cell_type": "code",
   "execution_count": 35,
   "id": "98c33ec8",
   "metadata": {},
   "outputs": [
    {
     "data": {
      "text/html": [
       "<div>\n",
       "<style scoped>\n",
       "    .dataframe tbody tr th:only-of-type {\n",
       "        vertical-align: middle;\n",
       "    }\n",
       "\n",
       "    .dataframe tbody tr th {\n",
       "        vertical-align: top;\n",
       "    }\n",
       "\n",
       "    .dataframe thead th {\n",
       "        text-align: right;\n",
       "    }\n",
       "</style>\n",
       "<table border=\"1\" class=\"dataframe\">\n",
       "  <thead>\n",
       "    <tr style=\"text-align: right;\">\n",
       "      <th></th>\n",
       "      <th>0.2</th>\n",
       "      <th>0.2.1</th>\n",
       "      <th>0.0</th>\n",
       "      <th>0.4</th>\n",
       "      <th>0.2.2</th>\n",
       "      <th>0.7</th>\n",
       "      <th>0.0.1</th>\n",
       "      <th>0.0.2</th>\n",
       "      <th>0.4.1</th>\n",
       "      <th>0.3</th>\n",
       "      <th>...</th>\n",
       "      <th>0.3.3</th>\n",
       "      <th>0.0.19</th>\n",
       "      <th>0.2.7</th>\n",
       "      <th>0.5.3</th>\n",
       "      <th>0.1.5</th>\n",
       "      <th>0.0.20</th>\n",
       "      <th>0.2.8</th>\n",
       "      <th>0.2.9</th>\n",
       "      <th>0.2.10</th>\n",
       "      <th>0.0.21</th>\n",
       "    </tr>\n",
       "  </thead>\n",
       "  <tbody>\n",
       "    <tr>\n",
       "      <th>4</th>\n",
       "      <td>0.0</td>\n",
       "      <td>0.0</td>\n",
       "      <td>0.0</td>\n",
       "      <td>0.0</td>\n",
       "      <td>0.0</td>\n",
       "      <td>0.0</td>\n",
       "      <td>0.0</td>\n",
       "      <td>0.0</td>\n",
       "      <td>0.0</td>\n",
       "      <td>0.0</td>\n",
       "      <td>...</td>\n",
       "      <td>0.0</td>\n",
       "      <td>0.0</td>\n",
       "      <td>0.0</td>\n",
       "      <td>0.0</td>\n",
       "      <td>0.0</td>\n",
       "      <td>0.0</td>\n",
       "      <td>0.0</td>\n",
       "      <td>0.0</td>\n",
       "      <td>0.0</td>\n",
       "      <td>0.0</td>\n",
       "    </tr>\n",
       "    <tr>\n",
       "      <th>270</th>\n",
       "      <td>0.0</td>\n",
       "      <td>0.0</td>\n",
       "      <td>0.0</td>\n",
       "      <td>0.0</td>\n",
       "      <td>0.0</td>\n",
       "      <td>0.0</td>\n",
       "      <td>0.0</td>\n",
       "      <td>0.0</td>\n",
       "      <td>0.0</td>\n",
       "      <td>0.0</td>\n",
       "      <td>...</td>\n",
       "      <td>0.0</td>\n",
       "      <td>0.0</td>\n",
       "      <td>0.0</td>\n",
       "      <td>0.0</td>\n",
       "      <td>0.0</td>\n",
       "      <td>0.0</td>\n",
       "      <td>0.0</td>\n",
       "      <td>0.0</td>\n",
       "      <td>0.0</td>\n",
       "      <td>0.0</td>\n",
       "    </tr>\n",
       "  </tbody>\n",
       "</table>\n",
       "<p>2 rows × 54 columns</p>\n",
       "</div>"
      ],
      "text/plain": [
       "     0.2  0.2.1  0.0  0.4  0.2.2  0.7  0.0.1  0.0.2  0.4.1  0.3  ...  0.3.3  \\\n",
       "4    0.0    0.0  0.0  0.0    0.0  0.0    0.0    0.0    0.0  0.0  ...    0.0   \n",
       "270  0.0    0.0  0.0  0.0    0.0  0.0    0.0    0.0    0.0  0.0  ...    0.0   \n",
       "\n",
       "     0.0.19  0.2.7  0.5.3  0.1.5  0.0.20  0.2.8  0.2.9  0.2.10  0.0.21  \n",
       "4       0.0    0.0    0.0    0.0     0.0    0.0    0.0     0.0     0.0  \n",
       "270     0.0    0.0    0.0    0.0     0.0    0.0    0.0     0.0     0.0  \n",
       "\n",
       "[2 rows x 54 columns]"
      ]
     },
     "execution_count": 35,
     "metadata": {},
     "output_type": "execute_result"
    }
   ],
   "source": [
    "rows_with_all_zeros = df[(df == 0).all(axis=1)]\n",
    "rows_with_all_zeros"
   ]
  },
  {
   "cell_type": "code",
   "execution_count": 36,
   "id": "42792574",
   "metadata": {},
   "outputs": [
    {
     "data": {
      "text/plain": [
       "Index([4, 270], dtype='int64')"
      ]
     },
     "execution_count": 36,
     "metadata": {},
     "output_type": "execute_result"
    }
   ],
   "source": [
    "drop_index = rows_with_all_zeros.index\n",
    "drop_index"
   ]
  },
  {
   "cell_type": "code",
   "execution_count": 9,
   "id": "f702eb04",
   "metadata": {},
   "outputs": [
    {
     "data": {
      "text/plain": [
       "(496, 102)"
      ]
     },
     "execution_count": 9,
     "metadata": {},
     "output_type": "execute_result"
    }
   ],
   "source": [
    "data = data.drop(index=drop_index)\n",
    "data.shape"
   ]
  },
  {
   "cell_type": "markdown",
   "id": "3c9834c9",
   "metadata": {},
   "source": [
    "## TF-IDF"
   ]
  },
  {
   "cell_type": "code",
   "execution_count": 41,
   "id": "3a225bcc",
   "metadata": {},
   "outputs": [
    {
     "data": {
      "text/plain": [
       "(13609, 1107)"
      ]
     },
     "execution_count": 41,
     "metadata": {},
     "output_type": "execute_result"
    }
   ],
   "source": [
    "df = pd.read_csv('tfidf_matrix.csv', encoding='utf-8')\n",
    "df.shape"
   ]
  },
  {
   "cell_type": "code",
   "execution_count": 43,
   "id": "e633acbb",
   "metadata": {},
   "outputs": [],
   "source": [
    "df_X = df.iloc[:600]"
   ]
  },
  {
   "cell_type": "code",
   "execution_count": 44,
   "id": "8b46526f",
   "metadata": {},
   "outputs": [
    {
     "data": {
      "text/html": [
       "<div>\n",
       "<style scoped>\n",
       "    .dataframe tbody tr th:only-of-type {\n",
       "        vertical-align: middle;\n",
       "    }\n",
       "\n",
       "    .dataframe tbody tr th {\n",
       "        vertical-align: top;\n",
       "    }\n",
       "\n",
       "    .dataframe thead th {\n",
       "        text-align: right;\n",
       "    }\n",
       "</style>\n",
       "<table border=\"1\" class=\"dataframe\">\n",
       "  <thead>\n",
       "    <tr style=\"text-align: right;\">\n",
       "      <th></th>\n",
       "      <th>10</th>\n",
       "      <th>11</th>\n",
       "      <th>12</th>\n",
       "      <th>13</th>\n",
       "      <th>14</th>\n",
       "      <th>15</th>\n",
       "      <th>16</th>\n",
       "      <th>17</th>\n",
       "      <th>18</th>\n",
       "      <th>19</th>\n",
       "      <th>...</th>\n",
       "      <th>嗜睡</th>\n",
       "      <th>头晕</th>\n",
       "      <th>腹痛</th>\n",
       "      <th>便血</th>\n",
       "      <th>心悸</th>\n",
       "      <th>螺旋杆菌感染</th>\n",
       "      <th>反流</th>\n",
       "      <th>水肿</th>\n",
       "      <th>胃肠功能紊乱</th>\n",
       "      <th>淋巴结肿大</th>\n",
       "    </tr>\n",
       "  </thead>\n",
       "  <tbody>\n",
       "    <tr>\n",
       "      <th>0</th>\n",
       "      <td>0.000000</td>\n",
       "      <td>0.0</td>\n",
       "      <td>0.0</td>\n",
       "      <td>0.0</td>\n",
       "      <td>0.0</td>\n",
       "      <td>0.0</td>\n",
       "      <td>0.0</td>\n",
       "      <td>0.0</td>\n",
       "      <td>0.000000</td>\n",
       "      <td>0.0</td>\n",
       "      <td>...</td>\n",
       "      <td>0</td>\n",
       "      <td>0</td>\n",
       "      <td>1</td>\n",
       "      <td>0</td>\n",
       "      <td>0</td>\n",
       "      <td>0</td>\n",
       "      <td>0</td>\n",
       "      <td>0</td>\n",
       "      <td>1</td>\n",
       "      <td>0</td>\n",
       "    </tr>\n",
       "    <tr>\n",
       "      <th>1</th>\n",
       "      <td>0.000000</td>\n",
       "      <td>0.0</td>\n",
       "      <td>0.0</td>\n",
       "      <td>0.0</td>\n",
       "      <td>0.0</td>\n",
       "      <td>0.0</td>\n",
       "      <td>0.0</td>\n",
       "      <td>0.0</td>\n",
       "      <td>0.074975</td>\n",
       "      <td>0.0</td>\n",
       "      <td>...</td>\n",
       "      <td>0</td>\n",
       "      <td>1</td>\n",
       "      <td>1</td>\n",
       "      <td>0</td>\n",
       "      <td>0</td>\n",
       "      <td>0</td>\n",
       "      <td>0</td>\n",
       "      <td>0</td>\n",
       "      <td>0</td>\n",
       "      <td>0</td>\n",
       "    </tr>\n",
       "    <tr>\n",
       "      <th>2</th>\n",
       "      <td>0.076517</td>\n",
       "      <td>0.0</td>\n",
       "      <td>0.0</td>\n",
       "      <td>0.0</td>\n",
       "      <td>0.0</td>\n",
       "      <td>0.0</td>\n",
       "      <td>0.0</td>\n",
       "      <td>0.0</td>\n",
       "      <td>0.000000</td>\n",
       "      <td>0.0</td>\n",
       "      <td>...</td>\n",
       "      <td>0</td>\n",
       "      <td>0</td>\n",
       "      <td>0</td>\n",
       "      <td>1</td>\n",
       "      <td>0</td>\n",
       "      <td>0</td>\n",
       "      <td>0</td>\n",
       "      <td>0</td>\n",
       "      <td>0</td>\n",
       "      <td>0</td>\n",
       "    </tr>\n",
       "    <tr>\n",
       "      <th>3</th>\n",
       "      <td>0.000000</td>\n",
       "      <td>0.0</td>\n",
       "      <td>0.0</td>\n",
       "      <td>0.0</td>\n",
       "      <td>0.0</td>\n",
       "      <td>0.0</td>\n",
       "      <td>0.0</td>\n",
       "      <td>0.0</td>\n",
       "      <td>0.000000</td>\n",
       "      <td>0.0</td>\n",
       "      <td>...</td>\n",
       "      <td>0</td>\n",
       "      <td>0</td>\n",
       "      <td>1</td>\n",
       "      <td>0</td>\n",
       "      <td>0</td>\n",
       "      <td>0</td>\n",
       "      <td>0</td>\n",
       "      <td>0</td>\n",
       "      <td>0</td>\n",
       "      <td>0</td>\n",
       "    </tr>\n",
       "    <tr>\n",
       "      <th>4</th>\n",
       "      <td>0.000000</td>\n",
       "      <td>0.0</td>\n",
       "      <td>0.0</td>\n",
       "      <td>0.0</td>\n",
       "      <td>0.0</td>\n",
       "      <td>0.0</td>\n",
       "      <td>0.0</td>\n",
       "      <td>0.0</td>\n",
       "      <td>0.000000</td>\n",
       "      <td>0.0</td>\n",
       "      <td>...</td>\n",
       "      <td>0</td>\n",
       "      <td>0</td>\n",
       "      <td>1</td>\n",
       "      <td>0</td>\n",
       "      <td>0</td>\n",
       "      <td>0</td>\n",
       "      <td>0</td>\n",
       "      <td>0</td>\n",
       "      <td>0</td>\n",
       "      <td>0</td>\n",
       "    </tr>\n",
       "  </tbody>\n",
       "</table>\n",
       "<p>5 rows × 1149 columns</p>\n",
       "</div>"
      ],
      "text/plain": [
       "         10   11   12   13   14   15   16   17        18   19  ...  嗜睡  头晕  \\\n",
       "0  0.000000  0.0  0.0  0.0  0.0  0.0  0.0  0.0  0.000000  0.0  ...   0   0   \n",
       "1  0.000000  0.0  0.0  0.0  0.0  0.0  0.0  0.0  0.074975  0.0  ...   0   1   \n",
       "2  0.076517  0.0  0.0  0.0  0.0  0.0  0.0  0.0  0.000000  0.0  ...   0   0   \n",
       "3  0.000000  0.0  0.0  0.0  0.0  0.0  0.0  0.0  0.000000  0.0  ...   0   0   \n",
       "4  0.000000  0.0  0.0  0.0  0.0  0.0  0.0  0.0  0.000000  0.0  ...   0   0   \n",
       "\n",
       "   腹痛  便血  心悸  螺旋杆菌感染  反流  水肿  胃肠功能紊乱  淋巴结肿大  \n",
       "0   1   0   0       0   0   0       1      0  \n",
       "1   1   0   0       0   0   0       0      0  \n",
       "2   0   1   0       0   0   0       0      0  \n",
       "3   1   0   0       0   0   0       0      0  \n",
       "4   1   0   0       0   0   0       0      0  \n",
       "\n",
       "[5 rows x 1149 columns]"
      ]
     },
     "execution_count": 44,
     "metadata": {},
     "output_type": "execute_result"
    }
   ],
   "source": [
    "df = pd.read_csv('label_data.csv', encoding = 'utf-8')\n",
    "df_y = df.iloc[:600]\n",
    "\n",
    "df_X = df_X.reset_index(drop=True)\n",
    "df_y = df_y.reset_index(drop=True)\n",
    "\n",
    "data = pd.concat([df_X, df_y], axis=1)\n",
    "data.head()"
   ]
  },
  {
   "cell_type": "code",
   "execution_count": 45,
   "id": "c2b8f6be",
   "metadata": {},
   "outputs": [
    {
     "data": {
      "text/plain": [
       "(600, 1149)"
      ]
     },
     "execution_count": 45,
     "metadata": {},
     "output_type": "execute_result"
    }
   ],
   "source": [
    "data.shape"
   ]
  },
  {
   "cell_type": "code",
   "execution_count": 30,
   "id": "3623d2aa",
   "metadata": {},
   "outputs": [],
   "source": [
    "# 平均准确率\n",
    "def Accuracy(y_true, y_pred):\n",
    "    count = 0\n",
    "    for i in range(y_true.shape[0]):\n",
    "        p = sum(np.logical_and(y_true.iloc[i], y_pred[i]))\n",
    "        q = sum(np.logical_or(y_true.iloc[i], y_pred[i]))\n",
    "        count += p / q\n",
    "    return count / y_true.shape[0]"
   ]
  },
  {
   "cell_type": "markdown",
   "id": "b8d80841",
   "metadata": {},
   "source": [
    "## Classification "
   ]
  },
  {
   "cell_type": "code",
   "execution_count": 46,
   "id": "d4562acb",
   "metadata": {
    "scrolled": false
   },
   "outputs": [
    {
     "name": "stdout",
     "output_type": "stream",
     "text": [
      "Classification Report:\n",
      "               precision    recall  f1-score   support\n",
      "\n",
      "           0       0.90      1.00      0.95       108\n",
      "           1       0.00      0.00      0.00        12\n",
      "\n",
      "    accuracy                           0.90       120\n",
      "   macro avg       0.45      0.50      0.47       120\n",
      "weighted avg       0.81      0.90      0.85       120\n",
      "\n",
      "Accuracy Score: 0.9\n"
     ]
    },
    {
     "name": "stderr",
     "output_type": "stream",
     "text": [
      "C:\\Users\\26387\\.conda\\envs\\machinelearning\\lib\\site-packages\\sklearn\\metrics\\_classification.py:1469: UndefinedMetricWarning: Precision and F-score are ill-defined and being set to 0.0 in labels with no predicted samples. Use `zero_division` parameter to control this behavior.\n",
      "  _warn_prf(average, modifier, msg_start, len(result))\n",
      "C:\\Users\\26387\\.conda\\envs\\machinelearning\\lib\\site-packages\\sklearn\\metrics\\_classification.py:1469: UndefinedMetricWarning: Precision and F-score are ill-defined and being set to 0.0 in labels with no predicted samples. Use `zero_division` parameter to control this behavior.\n",
      "  _warn_prf(average, modifier, msg_start, len(result))\n",
      "C:\\Users\\26387\\.conda\\envs\\machinelearning\\lib\\site-packages\\sklearn\\metrics\\_classification.py:1469: UndefinedMetricWarning: Precision and F-score are ill-defined and being set to 0.0 in labels with no predicted samples. Use `zero_division` parameter to control this behavior.\n",
      "  _warn_prf(average, modifier, msg_start, len(result))\n"
     ]
    }
   ],
   "source": [
    "from sklearn.model_selection import train_test_split\n",
    "from sklearn.svm import SVC\n",
    "from sklearn.preprocessing import StandardScaler\n",
    "from sklearn.multiclass import OneVsRestClassifier\n",
    "from sklearn.pipeline import make_pipeline\n",
    "from sklearn.metrics import classification_report, accuracy_score\n",
    "\n",
    "# 分割特征和标签\n",
    "X = data.iloc[:, :-42]  # 假设最后42列是标签\n",
    "y = data.iloc[:, -2:-1]  # 假设最后42列是标签\n",
    "\n",
    "# 划分数据集为训练集和测试集\n",
    "X_train, X_test, y_train, y_test = train_test_split(X, y, test_size=0.2, random_state=42)\n",
    "\n",
    "# 由于 SVM 对特征缩放敏感，因此创建一个包含标准化处理的管道\n",
    "svm_pipeline = make_pipeline(StandardScaler(), OneVsRestClassifier(SVC(probability=True)))\n",
    "\n",
    "# 训练模型\n",
    "svm_pipeline.fit(X_train, y_train)\n",
    "\n",
    "# 进行预测\n",
    "y_pred = svm_pipeline.predict(X_test)\n",
    "\n",
    "# 评估模型\n",
    "print(\"Classification Report:\\n\", classification_report(y_test, y_pred))\n",
    "print(\"Accuracy Score:\", accuracy_score(y_test, y_pred))\n",
    "# print(\"Average Accuracy:\", Accuracy(y_test, y_pred))"
   ]
  },
  {
   "cell_type": "code",
   "execution_count": 38,
   "id": "889c7ccf",
   "metadata": {},
   "outputs": [
    {
     "name": "stdout",
     "output_type": "stream",
     "text": [
      "Classification Report:\n",
      "               precision    recall  f1-score   support\n",
      "\n",
      "           0       0.00      0.00      0.00        36\n",
      "           1       0.00      0.00      0.00         0\n",
      "           2       0.00      0.00      0.00         0\n",
      "           3       0.00      0.00      0.00        11\n",
      "           4       0.00      0.00      0.00         3\n",
      "           5       0.00      0.00      0.00         0\n",
      "           6       0.75      0.05      0.10        56\n",
      "           7       0.00      0.00      0.00         9\n",
      "           8       0.00      0.00      0.00         0\n",
      "           9       0.00      0.00      0.00        19\n",
      "          10       0.00      0.00      0.00        15\n",
      "          11       0.00      0.00      0.00        25\n",
      "          12       0.00      0.00      0.00         5\n",
      "          13       0.00      0.00      0.00         3\n",
      "          14       0.00      0.00      0.00         5\n",
      "          15       0.00      0.00      0.00         0\n",
      "          16       0.00      0.00      0.00         2\n",
      "          17       0.00      0.00      0.00        14\n",
      "          18       0.00      0.00      0.00         2\n",
      "          19       0.00      0.00      0.00         0\n",
      "          20       0.00      0.00      0.00        19\n",
      "          21       0.00      0.00      0.00         3\n",
      "          22       0.00      0.00      0.00        10\n",
      "          23       0.00      0.00      0.00         3\n",
      "          24       0.00      0.00      0.00         5\n",
      "          25       0.00      0.00      0.00         0\n",
      "          26       0.00      0.00      0.00         3\n",
      "          27       0.00      0.00      0.00         1\n",
      "          28       0.00      0.00      0.00        18\n",
      "          29       0.00      0.00      0.00         2\n",
      "          30       0.00      0.00      0.00         0\n",
      "          31       0.00      0.00      0.00         2\n",
      "          32       0.00      0.00      0.00         0\n",
      "          33       0.00      0.00      0.00         6\n",
      "          34       0.20      0.02      0.03        55\n",
      "          35       0.00      0.00      0.00        13\n",
      "          36       0.00      0.00      0.00         2\n",
      "          37       0.00      0.00      0.00         8\n",
      "          38       0.00      0.00      0.00        25\n",
      "          39       0.00      0.00      0.00         0\n",
      "          40       0.00      0.00      0.00        12\n",
      "          41       0.00      0.00      0.00         0\n",
      "\n",
      "   micro avg       0.40      0.01      0.02       392\n",
      "   macro avg       0.02      0.00      0.00       392\n",
      "weighted avg       0.14      0.01      0.02       392\n",
      " samples avg       0.03      0.01      0.01       392\n",
      "\n",
      "Confusion Matrix:\n",
      " [[33  0  0  1  0  0  0  0  0  0  0  0  0  0  0  2  0  0]\n",
      " [ 5  0  0  1  0  0  0  0  0  0  0  0  0  0  0  0  0  0]\n",
      " [ 1  0  0  0  0  0  0  0  0  0  0  0  0  0  0  0  0  0]\n",
      " [30  0  0  1  0  0  0  0  0  0  0  0  0  0  0  1  0  0]\n",
      " [ 4  0  0  0  0  0  0  0  0  0  0  0  0  0  0  0  0  0]\n",
      " [ 6  0  0  0  0  0  0  0  0  0  0  0  0  0  0  0  0  0]\n",
      " [ 7  0  0  0  0  0  0  0  0  0  0  0  0  0  0  0  0  0]\n",
      " [ 7  0  0  1  0  0  0  0  0  0  0  0  0  0  0  0  0  0]\n",
      " [ 2  0  0  0  0  0  0  0  0  0  0  0  0  0  0  0  0  0]\n",
      " [ 2  0  0  0  0  0  0  0  0  0  0  0  0  0  0  0  0  0]\n",
      " [ 0  0  0  0  0  0  0  0  0  0  0  0  0  0  0  1  0  0]\n",
      " [ 2  0  0  0  0  0  0  0  0  0  0  0  0  0  0  0  0  0]\n",
      " [ 3  0  0  0  0  0  0  0  0  0  0  0  0  0  0  0  0  0]\n",
      " [ 2  0  0  0  0  0  0  0  0  0  0  0  0  0  0  0  0  0]\n",
      " [ 1  0  0  0  0  0  0  0  0  0  0  0  0  0  0  0  0  0]\n",
      " [ 5  0  0  0  0  0  0  0  0  0  0  0  0  0  0  0  0  0]\n",
      " [ 1  0  0  0  0  0  0  0  0  0  0  0  0  0  0  0  0  0]\n",
      " [ 1  0  0  0  0  0  0  0  0  0  0  0  0  0  0  0  0  0]]\n",
      "Accuracy Score: 0.2833333333333333\n"
     ]
    },
    {
     "name": "stderr",
     "output_type": "stream",
     "text": [
      "C:\\Users\\26387\\.conda\\envs\\machinelearning\\lib\\site-packages\\sklearn\\metrics\\_classification.py:1469: UndefinedMetricWarning: Precision and F-score are ill-defined and being set to 0.0 in labels with no predicted samples. Use `zero_division` parameter to control this behavior.\n",
      "  _warn_prf(average, modifier, msg_start, len(result))\n",
      "C:\\Users\\26387\\.conda\\envs\\machinelearning\\lib\\site-packages\\sklearn\\metrics\\_classification.py:1469: UndefinedMetricWarning: Recall and F-score are ill-defined and being set to 0.0 in labels with no true samples. Use `zero_division` parameter to control this behavior.\n",
      "  _warn_prf(average, modifier, msg_start, len(result))\n",
      "C:\\Users\\26387\\.conda\\envs\\machinelearning\\lib\\site-packages\\sklearn\\metrics\\_classification.py:1469: UndefinedMetricWarning: Precision and F-score are ill-defined and being set to 0.0 in samples with no predicted labels. Use `zero_division` parameter to control this behavior.\n",
      "  _warn_prf(average, modifier, msg_start, len(result))\n"
     ]
    }
   ],
   "source": [
    "from sklearn.model_selection import train_test_split\n",
    "from sklearn.ensemble import RandomForestClassifier\n",
    "from sklearn.metrics import classification_report, confusion_matrix, accuracy_score\n",
    "\n",
    "# 从合并的 DataFrame 中分割出特征和标签\n",
    "X = data.iloc[:, :-42]\n",
    "y = data.iloc[:, -42:]  \n",
    "\n",
    "# 划分数据集为训练集和测试集\n",
    "X_train, X_test, y_train, y_test = train_test_split(X, y, test_size=0.2, random_state=42)\n",
    "\n",
    "# 初始化随机森林分类器\n",
    "rf_classifier = RandomForestClassifier(n_estimators=100, random_state=42)\n",
    "\n",
    "# 训练模型\n",
    "rf_classifier.fit(X_train, y_train)\n",
    "\n",
    "# 进行预测\n",
    "y_pred = rf_classifier.predict(X_test)\n",
    "\n",
    "# 评估模型\n",
    "print(\"Classification Report:\\n\", classification_report(y_test, y_pred))\n",
    "print(\"Confusion Matrix:\\n\", confusion_matrix(y_test.values.argmax(axis=1), y_pred.argmax(axis=1)))\n",
    "print(\"Accuracy Score:\", accuracy_score(y_test.values.argmax(axis=1), y_pred.argmax(axis=1)))\n",
    "# print(\"Average Accuracy:\", Accuracy(y_test, y_pred))"
   ]
  },
  {
   "cell_type": "code",
   "execution_count": 46,
   "id": "50dac8fd",
   "metadata": {},
   "outputs": [],
   "source": [
    "y = [1, 0, 0, 0, 0, 0, 1, 0, 0, 1, 0, 0, 0, 0, 0, 0, 0, 0, 0, 0, 0, 0,\n",
    "        0, 0, 0, 0, 0, 0, 0, 0, 0, 0, 0, 0, 0, 0, 0, 0, 0, 0, 0, 0]\n",
    "y_pred = [1, 0, 0, 0, 0, 0, 0, 0, 0, 1, 0, 0, 0, 0, 0, 0, 0, 0, 0, 0, 0, 0,\n",
    "        0, 0, 0, 0, 0, 0, 0, 0, 0, 0, 0, 0, 0, 0, 0, 0, 0, 0, 0, 0]"
   ]
  },
  {
   "cell_type": "code",
   "execution_count": 47,
   "id": "b6d3288c",
   "metadata": {},
   "outputs": [
    {
     "data": {
      "text/plain": [
       "0.9761904761904762"
      ]
     },
     "execution_count": 47,
     "metadata": {},
     "output_type": "execute_result"
    }
   ],
   "source": [
    "accuracy_score(y,y_pred)"
   ]
  },
  {
   "cell_type": "code",
   "execution_count": null,
   "id": "feba6d76",
   "metadata": {},
   "outputs": [],
   "source": []
  }
 ],
 "metadata": {
  "kernelspec": {
   "display_name": "Python 3 (ipykernel)",
   "language": "python",
   "name": "python3"
  },
  "language_info": {
   "codemirror_mode": {
    "name": "ipython",
    "version": 3
   },
   "file_extension": ".py",
   "mimetype": "text/x-python",
   "name": "python",
   "nbconvert_exporter": "python",
   "pygments_lexer": "ipython3",
   "version": "3.9.18"
  }
 },
 "nbformat": 4,
 "nbformat_minor": 5
}
